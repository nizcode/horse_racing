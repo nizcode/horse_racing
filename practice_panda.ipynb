{
 "cells": [
  {
   "cell_type": "code",
   "execution_count": 1,
   "metadata": {},
   "outputs": [
    {
     "data": {
      "text/plain": [
       "'/home/neilfa/jupyter_data_cleaning'"
      ]
     },
     "execution_count": 1,
     "metadata": {},
     "output_type": "execute_result"
    }
   ],
   "source": [
    "# just a place to practice and test code\n",
    "\n",
    "import pandas as pd\n",
    "import numpy as np\n",
    "import regex\n",
    "import time\n",
    "import os\n",
    "import seaborn as sns\n",
    "import itertools\n",
    "import random\n",
    "%pwd"
   ]
  },
  {
   "cell_type": "code",
   "execution_count": 11,
   "metadata": {},
   "outputs": [
    {
     "ename": "TypeError",
     "evalue": "ufunc 'isnan' not supported for the input types, and the inputs could not be safely coerced to any supported types according to the casting rule ''safe''",
     "output_type": "error",
     "traceback": [
      "\u001b[0;31m---------------------------------------------------------------------------\u001b[0m",
      "\u001b[0;31mTypeError\u001b[0m                                 Traceback (most recent call last)",
      "\u001b[0;32m<ipython-input-11-744fac54412b>\u001b[0m in \u001b[0;36m<module>\u001b[0;34m\u001b[0m\n\u001b[1;32m      1\u001b[0m \u001b[0ma\u001b[0m \u001b[0;34m=\u001b[0m \u001b[0;34m'nan'\u001b[0m\u001b[0;34m\u001b[0m\u001b[0;34m\u001b[0m\u001b[0m\n\u001b[0;32m----> 2\u001b[0;31m \u001b[0mnp\u001b[0m\u001b[0;34m.\u001b[0m\u001b[0misnan\u001b[0m\u001b[0;34m(\u001b[0m\u001b[0ma\u001b[0m\u001b[0;34m)\u001b[0m\u001b[0;34m\u001b[0m\u001b[0;34m\u001b[0m\u001b[0m\n\u001b[0m",
      "\u001b[0;31mTypeError\u001b[0m: ufunc 'isnan' not supported for the input types, and the inputs could not be safely coerced to any supported types according to the casting rule ''safe''"
     ]
    }
   ],
   "source": [
    "a = 'nan'\n",
    "np.isnan(a)"
   ]
  },
  {
   "cell_type": "code",
   "execution_count": 2,
   "metadata": {},
   "outputs": [],
   "source": [
    "df = pd.DataFrame({'Name':list('aabbef'),\n",
    "                   'A':['100/10','130/10F','EvensF','1/5F','5/1','44/1'],\n",
    "                   'B':['abs (ire)','cvs df (ire)','Vbs gh gfd (fr)','tb (gb)','DFs (ire)','TGH (gb)'],\n",
    "                   'C':['145','132','140','113','112','120'],\n",
    "                   'D':[np.nan,np.nan,np.nan,np.nan,np.nan,np.nan]})\n",
    "\n",
    "\n"
   ]
  },
  {
   "cell_type": "code",
   "execution_count": 3,
   "metadata": {},
   "outputs": [
    {
     "name": "stdout",
     "output_type": "stream",
     "text": [
      "[4.0, 2.5]\n"
     ]
    }
   ],
   "source": [
    "dic = {'a':[1, 8, 3, 1],'b':['5', '2', '9', '8'],'c':['5','29','7','10','3','10','8','20','3','14','14','9','2','2']}\n",
    "\n",
    "\n",
    "def ema(s, n):\n",
    "    \"\"\"\n",
    "    returns an n period exponential moving average for\n",
    "    the time series s\n",
    "\n",
    "    s is a list ordered from oldest (index 0) to most\n",
    "    recent (index -1)\n",
    "    n is an integer\n",
    "\n",
    "    returns a numeric array of the exponential\n",
    "    moving average\n",
    "    \"\"\"\n",
    "    s = np.array(s)\n",
    "    ema = []\n",
    "    j = 1\n",
    "\n",
    "    #get n sma first and calculate the next n period ema\n",
    "    sma = sum(s[:n]) / n\n",
    "    multiplier = 2 / float(1 + n)\n",
    "    ema.append(sma)\n",
    "\n",
    "    #EMA(current) = ( (Price(current) - EMA(prev) ) x Multiplier) + EMA(prev)\n",
    "    ema.append(( (s[n] - sma) * multiplier) + sma)\n",
    "\n",
    "    #now calculate the rest of the values\n",
    "    for i in s[n+1:]:\n",
    "        tmp = ( (i - ema[j]) * multiplier) + ema[j]\n",
    "        j = j + 1\n",
    "        ema.append(tmp)\n",
    "    return ema\n",
    "\n",
    "print(ema(dic['a'],3))"
   ]
  },
  {
   "cell_type": "code",
   "execution_count": 4,
   "metadata": {},
   "outputs": [
    {
     "data": {
      "text/html": [
       "<div>\n",
       "<style scoped>\n",
       "    .dataframe tbody tr th:only-of-type {\n",
       "        vertical-align: middle;\n",
       "    }\n",
       "\n",
       "    .dataframe tbody tr th {\n",
       "        vertical-align: top;\n",
       "    }\n",
       "\n",
       "    .dataframe thead th {\n",
       "        text-align: right;\n",
       "    }\n",
       "</style>\n",
       "<table border=\"1\" class=\"dataframe\">\n",
       "  <thead>\n",
       "    <tr style=\"text-align: right;\">\n",
       "      <th></th>\n",
       "      <th>Name</th>\n",
       "      <th>A</th>\n",
       "      <th>B</th>\n",
       "      <th>C</th>\n",
       "      <th>D</th>\n",
       "    </tr>\n",
       "  </thead>\n",
       "  <tbody>\n",
       "    <tr>\n",
       "      <th>0</th>\n",
       "      <td>a</td>\n",
       "      <td>100/10</td>\n",
       "      <td>abs (ire)</td>\n",
       "      <td>145</td>\n",
       "      <td>NaN</td>\n",
       "    </tr>\n",
       "    <tr>\n",
       "      <th>1</th>\n",
       "      <td>a</td>\n",
       "      <td>130/10F</td>\n",
       "      <td>cvs df (ire)</td>\n",
       "      <td>132</td>\n",
       "      <td>1.0</td>\n",
       "    </tr>\n",
       "    <tr>\n",
       "      <th>2</th>\n",
       "      <td>b</td>\n",
       "      <td>EvensF</td>\n",
       "      <td>Vbs gh gfd (fr)</td>\n",
       "      <td>140</td>\n",
       "      <td>NaN</td>\n",
       "    </tr>\n",
       "    <tr>\n",
       "      <th>3</th>\n",
       "      <td>b</td>\n",
       "      <td>1/5F</td>\n",
       "      <td>tb (gb)</td>\n",
       "      <td>113</td>\n",
       "      <td>2.0</td>\n",
       "    </tr>\n",
       "    <tr>\n",
       "      <th>4</th>\n",
       "      <td>e</td>\n",
       "      <td>5/1</td>\n",
       "      <td>DFs (ire)</td>\n",
       "      <td>112</td>\n",
       "      <td>NaN</td>\n",
       "    </tr>\n",
       "  </tbody>\n",
       "</table>\n",
       "</div>"
      ],
      "text/plain": [
       "  Name        A                B    C    D\n",
       "0    a   100/10        abs (ire)  145  NaN\n",
       "1    a  130/10F     cvs df (ire)  132  1.0\n",
       "2    b   EvensF  Vbs gh gfd (fr)  140  NaN\n",
       "3    b     1/5F          tb (gb)  113  2.0\n",
       "4    e      5/1        DFs (ire)  112  NaN"
      ]
     },
     "execution_count": 4,
     "metadata": {},
     "output_type": "execute_result"
    }
   ],
   "source": [
    "df.head()\n",
    "df.loc[[1,3],'D'] = [1,2]\n",
    "df.head()"
   ]
  },
  {
   "cell_type": "code",
   "execution_count": 5,
   "metadata": {},
   "outputs": [],
   "source": [
    "df.columns.tolist().remove('C')\n"
   ]
  },
  {
   "cell_type": "code",
   "execution_count": 6,
   "metadata": {},
   "outputs": [
    {
     "data": {
      "text/plain": [
       "{'a': [1.0, 0.5, 0.6666666666666666, 0.75, 0.6],\n",
       " 'b': [0.0, 0.5, 0.3333333333333333, 0.25],\n",
       " 'c': [0.0,\n",
       "  0.0,\n",
       "  0.0,\n",
       "  0.0,\n",
       "  0.2,\n",
       "  0.16666666666666666,\n",
       "  0.14285714285714285,\n",
       "  0.125,\n",
       "  0.2222222222222222,\n",
       "  0.2,\n",
       "  0.18181818181818182,\n",
       "  0.16666666666666666,\n",
       "  0.23076923076923078,\n",
       "  0.2857142857142857]}"
      ]
     },
     "execution_count": 6,
     "metadata": {},
     "output_type": "execute_result"
    }
   ],
   "source": [
    "dic = {'a':['1', '8', '3', '1', 'DSQ'],'b':['5', '2', '9', '8'],'c':['5','29','7','10','3','10','8','20','3','14','14','9','2','2']}\n",
    "\n",
    "place = ['2','3']\n",
    "c={}\n",
    "e={}\n",
    "for key in dic:\n",
    "    value = dic[key]\n",
    "    cnt = 0\n",
    "    b =[]\n",
    "    d=[]\n",
    "    cnt2=0\n",
    "    for i in range(len(value)):\n",
    "        if value[i] == '1':\n",
    "            cnt += 1\n",
    "            cnt2 += 1\n",
    "            b.append(cnt/(i+1))\n",
    "            d.append(cnt2/(i+1))\n",
    "        elif value[i] in place:\n",
    "            cnt2 += 1\n",
    "            d.append(cnt2/(i+1))\n",
    "        else:\n",
    "            b.append(cnt/(i+1))\n",
    "            d.append(cnt2/(i+1))\n",
    "    c[key]=b\n",
    "    e[key]=d\n",
    "\n",
    "e      "
   ]
  },
  {
   "cell_type": "code",
   "execution_count": 7,
   "metadata": {},
   "outputs": [],
   "source": [
    "df['C']=pd.to_numeric(df['C'])\n",
    "mx = df['C'].max()\n",
    "lmx = [[mx]*6]\n",
    "lmx = lmx[0]\n",
    "#lmx[0]-df['C']\n",
    "ls = [True,False,True]\n",
    "#if True in ls:\n",
    "    \n"
   ]
  },
  {
   "cell_type": "code",
   "execution_count": 8,
   "metadata": {},
   "outputs": [],
   "source": [
    "df.loc[0:2,'D'] = [123,134,140]\n",
    "a = np.empty((1,3))\n",
    "a[:]=np.nan\n",
    "mn = df.loc[:,'D'].min()\n",
    "mnl = [mn]*6\n",
    "\n"
   ]
  },
  {
   "cell_type": "code",
   "execution_count": 9,
   "metadata": {},
   "outputs": [
    {
     "data": {
      "text/html": [
       "<div>\n",
       "<style scoped>\n",
       "    .dataframe tbody tr th:only-of-type {\n",
       "        vertical-align: middle;\n",
       "    }\n",
       "\n",
       "    .dataframe tbody tr th {\n",
       "        vertical-align: top;\n",
       "    }\n",
       "\n",
       "    .dataframe thead th {\n",
       "        text-align: right;\n",
       "    }\n",
       "</style>\n",
       "<table border=\"1\" class=\"dataframe\">\n",
       "  <thead>\n",
       "    <tr style=\"text-align: right;\">\n",
       "      <th></th>\n",
       "      <th>Name</th>\n",
       "      <th>A</th>\n",
       "      <th>B</th>\n",
       "      <th>C</th>\n",
       "      <th>D</th>\n",
       "    </tr>\n",
       "  </thead>\n",
       "  <tbody>\n",
       "    <tr>\n",
       "      <th>0</th>\n",
       "      <td>a</td>\n",
       "      <td>100/10</td>\n",
       "      <td>abs (ire)</td>\n",
       "      <td>145</td>\n",
       "      <td>145</td>\n",
       "    </tr>\n",
       "    <tr>\n",
       "      <th>1</th>\n",
       "      <td>a</td>\n",
       "      <td>130/10F</td>\n",
       "      <td>cvs df (ire)</td>\n",
       "      <td>132</td>\n",
       "      <td>132</td>\n",
       "    </tr>\n",
       "    <tr>\n",
       "      <th>2</th>\n",
       "      <td>b</td>\n",
       "      <td>EvensF</td>\n",
       "      <td>Vbs gh gfd (fr)</td>\n",
       "      <td>140</td>\n",
       "      <td>140</td>\n",
       "    </tr>\n",
       "    <tr>\n",
       "      <th>3</th>\n",
       "      <td>b</td>\n",
       "      <td>1/5F</td>\n",
       "      <td>tb (gb)</td>\n",
       "      <td>113</td>\n",
       "      <td>113</td>\n",
       "    </tr>\n",
       "    <tr>\n",
       "      <th>4</th>\n",
       "      <td>e</td>\n",
       "      <td>5/1</td>\n",
       "      <td>DFs (ire)</td>\n",
       "      <td>112</td>\n",
       "      <td>112</td>\n",
       "    </tr>\n",
       "  </tbody>\n",
       "</table>\n",
       "</div>"
      ],
      "text/plain": [
       "  Name        A                B    C    D\n",
       "0    a   100/10        abs (ire)  145  145\n",
       "1    a  130/10F     cvs df (ire)  132  132\n",
       "2    b   EvensF  Vbs gh gfd (fr)  140  140\n",
       "3    b     1/5F          tb (gb)  113  113\n",
       "4    e      5/1        DFs (ire)  112  112"
      ]
     },
     "execution_count": 9,
     "metadata": {},
     "output_type": "execute_result"
    }
   ],
   "source": [
    "df.head\n",
    "df.loc[:,'D']=df.loc[:,('C')]\n",
    "pos = df.loc[:,('C')]\n",
    "for i in range(len(pos)):\n",
    "    try:\n",
    "        int(pos[i])\n",
    "    except:\n",
    "        pos.iloc[i]=5\n",
    "pd.to_numeric(df.loc[:,'C'])\n",
    "df.head()"
   ]
  },
  {
   "cell_type": "code",
   "execution_count": 10,
   "metadata": {},
   "outputs": [
    {
     "ename": "TypeError",
     "evalue": "type list doesn't define __round__ method",
     "output_type": "error",
     "traceback": [
      "\u001b[0;31m---------------------------------------------------------------------------\u001b[0m",
      "\u001b[0;31mTypeError\u001b[0m                                 Traceback (most recent call last)",
      "\u001b[0;32m<ipython-input-10-a24bd4c42276>\u001b[0m in \u001b[0;36m<module>\u001b[0;34m\u001b[0m\n\u001b[1;32m      3\u001b[0m     \u001b[0mnorm\u001b[0m\u001b[0;34m.\u001b[0m\u001b[0mappend\u001b[0m\u001b[0;34m(\u001b[0m\u001b[0;34m(\u001b[0m\u001b[0;36m1\u001b[0m\u001b[0;34m/\u001b[0m\u001b[0mi\u001b[0m\u001b[0;34m)\u001b[0m\u001b[0;34m*\u001b[0m\u001b[0;36m10\u001b[0m\u001b[0;34m)\u001b[0m\u001b[0;34m\u001b[0m\u001b[0;34m\u001b[0m\u001b[0m\n\u001b[1;32m      4\u001b[0m \u001b[0;34m\u001b[0m\u001b[0m\n\u001b[0;32m----> 5\u001b[0;31m \u001b[0mint\u001b[0m\u001b[0;34m(\u001b[0m\u001b[0mround\u001b[0m\u001b[0;34m(\u001b[0m\u001b[0mnorm\u001b[0m\u001b[0;34m)\u001b[0m\u001b[0;34m)\u001b[0m\u001b[0;34m\u001b[0m\u001b[0;34m\u001b[0m\u001b[0m\n\u001b[0m\u001b[1;32m      6\u001b[0m \u001b[0;34m\u001b[0m\u001b[0m\n",
      "\u001b[0;31mTypeError\u001b[0m: type list doesn't define __round__ method"
     ]
    }
   ],
   "source": [
    "norm = []\n",
    "for i in range(1,20):\n",
    "    norm.append((1/i)*10)\n",
    "    \n",
    "int(round(norm))\n",
    "    "
   ]
  },
  {
   "cell_type": "code",
   "execution_count": null,
   "metadata": {},
   "outputs": [],
   "source": [
    "value= ['2','1','3']\n",
    "pl = []\n",
    "cnt = 0\n",
    "ln = len(value)\n",
    "#value = value.astype(np.float)\n",
    "for i in range(ln):\n",
    "    if value[i] == '1':\n",
    "        cnt=+1\n",
    "        pl.append(cnt/(i+1))\n",
    "    else:\n",
    "        pl.append(cnt/(i+1))\n",
    "pl"
   ]
  },
  {
   "cell_type": "code",
   "execution_count": null,
   "metadata": {},
   "outputs": [],
   "source": [
    "grouped = df.groupby(['Name']).count()\n",
    "#ls = list(grouped)\n",
    "#l\n",
    "a = df.loc[:,'A']\n",
    "a = a.str.replace(\"Evens\",\"1/1\")\n",
    "a = a.str.extract(r'(\\d+).(\\d+)(.?)')\n",
    "a\n",
    "a.iloc[:,0] = a.iloc[:,0].astype(int)\n",
    "a.iloc[:,1] = a.iloc[:,1].astype(int)\n",
    "b = (a.iloc[:,0]/a.iloc[:,1])+1\n",
    "#a.iloc[:,2]\n",
    "#b = pd.concat([b,a.iloc[:,2]],axis=1)\n",
    "#.iloc[:,1]=b.iloc[:,1].str.replace(r\"\\s\\w\\s\",\"F\")\n",
    "#b.iloc[:,1]=b.iloc[:,1].str.replace('',\"N\")\n",
    "b.iloc[:,1] = b.iloc[:,1].str.contains(r\"\\S\")\n",
    "\n",
    "\n",
    "\n"
   ]
  },
  {
   "cell_type": "code",
   "execution_count": null,
   "metadata": {},
   "outputs": [],
   "source": [
    "a = df.loc[:,'B']\n",
    "a\n",
    "c = a.str.extract(r\"(.+)\\s\\((\\w+)\\)\")\n",
    "c['fav']=c.iloc[:,1]\n",
    "c\n",
    "                  "
   ]
  },
  {
   "cell_type": "code",
   "execution_count": null,
   "metadata": {},
   "outputs": [],
   "source": [
    "a = df['C']\n",
    "c = a.str.extract(r\"(\\d+):(.+)\")\n",
    "c[0] = c[0].astype(float)\n",
    "c[1] = c[1].astype(float)\n",
    "df['C'] = (c[0]*60)+c[1]\n",
    "\n",
    "\n",
    "\n"
   ]
  },
  {
   "cell_type": "code",
   "execution_count": null,
   "metadata": {},
   "outputs": [],
   "source": [
    "def append_value(dict_obj, key, value):\n",
    "    # Check if key exist in dict or not\n",
    "    if key in dict_obj:\n",
    "        # Key exist in dict.\n",
    "        # Check if type of value of key is list or not\n",
    "        if not isinstance(dict_obj[key], list):\n",
    "            # If type is not list then make it list\n",
    "            dict_obj[key] = [dict_obj[key]]\n",
    "        # Append the value in list\n",
    "        dict_obj[key].append(value)\n",
    "    else:\n",
    "        # As key is not in dict,\n",
    "        # so, add key-value pair\n",
    "        dict_obj[key] = value\n",
    "\n",
    "dicG = df.groupby('Name')\n",
    "dic = dicG.groups\n",
    "dicG.get_group('a').loc[0,'UID'] = '3'\n",
    "df.loc[0,'UID'] = '3'\n",
    "df\n",
    "#sdic = dic[1:5]\n",
    "#type(dic.keys())\n",
    "#dic[a].append([29,29,29])\n",
    "#append_value(dic,'a',sorted(['29']*4))\n",
    "#dic\n"
   ]
  },
  {
   "cell_type": "code",
   "execution_count": null,
   "metadata": {},
   "outputs": [],
   "source": [
    "l = []\n",
    "a = ['1','2','3']\n",
    "b = [1,2,3]\n",
    "for i in range(len(a)):\n",
    "    lc = [a[i]]*b[i]\n",
    "    for j in lc:\n",
    "        l.append(j)\n",
    "l\n",
    "    \n",
    "\n"
   ]
  },
  {
   "cell_type": "code",
   "execution_count": 14,
   "metadata": {},
   "outputs": [
    {
     "ename": "TypeError",
     "evalue": "type list doesn't define __round__ method",
     "output_type": "error",
     "traceback": [
      "\u001b[0;31m---------------------------------------------------------------------------\u001b[0m",
      "\u001b[0;31mTypeError\u001b[0m                                 Traceback (most recent call last)",
      "\u001b[0;32m<ipython-input-14-83fc2cf3b6de>\u001b[0m in \u001b[0;36m<module>\u001b[0;34m\u001b[0m\n\u001b[1;32m      1\u001b[0m \u001b[0ma\u001b[0m \u001b[0;34m=\u001b[0m \u001b[0;34m[\u001b[0m\u001b[0;36m1.4\u001b[0m\u001b[0;34m,\u001b[0m\u001b[0;36m4.55\u001b[0m\u001b[0;34m]\u001b[0m\u001b[0;34m\u001b[0m\u001b[0;34m\u001b[0m\u001b[0m\n\u001b[0;32m----> 2\u001b[0;31m \u001b[0mround\u001b[0m\u001b[0;34m(\u001b[0m\u001b[0ma\u001b[0m\u001b[0;34m)\u001b[0m\u001b[0;34m\u001b[0m\u001b[0;34m\u001b[0m\u001b[0m\n\u001b[0m",
      "\u001b[0;31mTypeError\u001b[0m: type list doesn't define __round__ method"
     ]
    }
   ],
   "source": [
    "a = [1.4,4.55]\n",
    "round(a)"
   ]
  }
 ],
 "metadata": {
  "kernelspec": {
   "display_name": "Python 3",
   "language": "python",
   "name": "python3"
  },
  "language_info": {
   "codemirror_mode": {
    "name": "ipython",
    "version": 3
   },
   "file_extension": ".py",
   "mimetype": "text/x-python",
   "name": "python",
   "nbconvert_exporter": "python",
   "pygments_lexer": "ipython3",
   "version": "3.8.5"
  }
 },
 "nbformat": 4,
 "nbformat_minor": 4
}
