{
 "cells": [
  {
   "cell_type": "code",
   "execution_count": 1,
   "metadata": {},
   "outputs": [
    {
     "data": {
      "text/plain": [
       "'/home/neilfa/jupyter_data_cleaning'"
      ]
     },
     "execution_count": 1,
     "metadata": {},
     "output_type": "execute_result"
    }
   ],
   "source": [
    "# just a place to practice and test code\n",
    "\n",
    "import pandas as pd\n",
    "import numpy as np\n",
    "import regex\n",
    "import time\n",
    "import os\n",
    "import seaborn as sns\n",
    "import itertools\n",
    "%pwd"
   ]
  },
  {
   "cell_type": "code",
   "execution_count": 36,
   "metadata": {},
   "outputs": [],
   "source": [
    "df = pd.DataFrame({'Name':list('aabbef'),\n",
    "                   'A':['100/10','130/10F','EvensF','1/5F','5/1','44/1'],\n",
    "                   'B':['abs (ire)','cvs df (ire)','Vbs gh gfd (fr)','tb (gb)','DFs (ire)','TGH (gb)'],\n",
    "                   'C':['145','132','140','113','112','120'],\n",
    "                   'D':[np.nan,np.nan,np.nan,np.nan,np.nan,np.nan]})\n",
    "\n",
    "\n"
   ]
  },
  {
   "cell_type": "code",
   "execution_count": 33,
   "metadata": {},
   "outputs": [
    {
     "data": {
      "text/plain": [
       "0     0\n",
       "1    13\n",
       "2     5\n",
       "3    32\n",
       "4    33\n",
       "5    25\n",
       "Name: C, dtype: int64"
      ]
     },
     "execution_count": 33,
     "metadata": {},
     "output_type": "execute_result"
    }
   ],
   "source": [
    "df['C']=pd.to_numeric(df['C'])\n",
    "mx = df['C'].max()\n",
    "lmx = [[mx]*6]\n",
    "lmx = lmx[0]\n",
    "#lmx[0]-df['C']\n",
    "ls = [True,False,True]\n",
    "if True in ls:\n",
    "    \n"
   ]
  },
  {
   "cell_type": "code",
   "execution_count": 43,
   "metadata": {},
   "outputs": [
    {
     "data": {
      "text/plain": [
       "array([[nan, nan, nan]])"
      ]
     },
     "execution_count": 43,
     "metadata": {},
     "output_type": "execute_result"
    }
   ],
   "source": [
    "df.loc[0:2,'D'] = [123,134,140]\n",
    "a = np.empty((1,3))\n",
    "a[:]=np.nan\n",
    "a"
   ]
  },
  {
   "cell_type": "code",
   "execution_count": 3,
   "metadata": {},
   "outputs": [
    {
     "name": "stderr",
     "output_type": "stream",
     "text": [
      "/usr/lib/python3/dist-packages/pandas/core/indexing.py:205: SettingWithCopyWarning: \n",
      "A value is trying to be set on a copy of a slice from a DataFrame\n",
      "\n",
      "See the caveats in the documentation: http://pandas.pydata.org/pandas-docs/stable/user_guide/indexing.html#returning-a-view-versus-a-copy\n",
      "  self._setitem_with_indexer(indexer, value)\n"
     ]
    },
    {
     "data": {
      "text/html": [
       "<div>\n",
       "<style scoped>\n",
       "    .dataframe tbody tr th:only-of-type {\n",
       "        vertical-align: middle;\n",
       "    }\n",
       "\n",
       "    .dataframe tbody tr th {\n",
       "        vertical-align: top;\n",
       "    }\n",
       "\n",
       "    .dataframe thead th {\n",
       "        text-align: right;\n",
       "    }\n",
       "</style>\n",
       "<table border=\"1\" class=\"dataframe\">\n",
       "  <thead>\n",
       "    <tr style=\"text-align: right;\">\n",
       "      <th></th>\n",
       "      <th>Name</th>\n",
       "      <th>A</th>\n",
       "      <th>B</th>\n",
       "      <th>C</th>\n",
       "      <th>UID</th>\n",
       "      <th>D</th>\n",
       "    </tr>\n",
       "  </thead>\n",
       "  <tbody>\n",
       "    <tr>\n",
       "      <th>0</th>\n",
       "      <td>a</td>\n",
       "      <td>100/10</td>\n",
       "      <td>abs (ire)</td>\n",
       "      <td>1</td>\n",
       "      <td>NaN</td>\n",
       "      <td>1</td>\n",
       "    </tr>\n",
       "    <tr>\n",
       "      <th>1</th>\n",
       "      <td>a</td>\n",
       "      <td>130/10F</td>\n",
       "      <td>cvs df (ire)</td>\n",
       "      <td>2</td>\n",
       "      <td>NaN</td>\n",
       "      <td>2</td>\n",
       "    </tr>\n",
       "    <tr>\n",
       "      <th>2</th>\n",
       "      <td>b</td>\n",
       "      <td>EvensF</td>\n",
       "      <td>Vbs gh gfd (fr)</td>\n",
       "      <td>5</td>\n",
       "      <td>NaN</td>\n",
       "      <td>PU</td>\n",
       "    </tr>\n",
       "    <tr>\n",
       "      <th>3</th>\n",
       "      <td>b</td>\n",
       "      <td>1/5F</td>\n",
       "      <td>tb (gb)</td>\n",
       "      <td>2</td>\n",
       "      <td>NaN</td>\n",
       "      <td>2</td>\n",
       "    </tr>\n",
       "    <tr>\n",
       "      <th>4</th>\n",
       "      <td>e</td>\n",
       "      <td>5/1</td>\n",
       "      <td>DFs (ire)</td>\n",
       "      <td>5</td>\n",
       "      <td>NaN</td>\n",
       "      <td>F</td>\n",
       "    </tr>\n",
       "  </tbody>\n",
       "</table>\n",
       "</div>"
      ],
      "text/plain": [
       "  Name        A                B  C  UID   D\n",
       "0    a   100/10        abs (ire)  1  NaN   1\n",
       "1    a  130/10F     cvs df (ire)  2  NaN   2\n",
       "2    b   EvensF  Vbs gh gfd (fr)  5  NaN  PU\n",
       "3    b     1/5F          tb (gb)  2  NaN   2\n",
       "4    e      5/1        DFs (ire)  5  NaN   F"
      ]
     },
     "execution_count": 3,
     "metadata": {},
     "output_type": "execute_result"
    }
   ],
   "source": [
    "df.head\n",
    "df.loc[:,'D']=df.loc[:,('C')]\n",
    "pos = df.loc[:,('C')]\n",
    "for i in range(len(pos)):\n",
    "    try:\n",
    "        int(pos[i])\n",
    "    except:\n",
    "        pos.iloc[i]=5\n",
    "pd.to_numeric(df.loc[:,'C'])\n",
    "df.head()"
   ]
  },
  {
   "cell_type": "code",
   "execution_count": 4,
   "metadata": {},
   "outputs": [
    {
     "ename": "TypeError",
     "evalue": "type list doesn't define __round__ method",
     "output_type": "error",
     "traceback": [
      "\u001b[0;31m---------------------------------------------------------------------------\u001b[0m",
      "\u001b[0;31mTypeError\u001b[0m                                 Traceback (most recent call last)",
      "\u001b[0;32m<ipython-input-4-a24bd4c42276>\u001b[0m in \u001b[0;36m<module>\u001b[0;34m\u001b[0m\n\u001b[1;32m      3\u001b[0m     \u001b[0mnorm\u001b[0m\u001b[0;34m.\u001b[0m\u001b[0mappend\u001b[0m\u001b[0;34m(\u001b[0m\u001b[0;34m(\u001b[0m\u001b[0;36m1\u001b[0m\u001b[0;34m/\u001b[0m\u001b[0mi\u001b[0m\u001b[0;34m)\u001b[0m\u001b[0;34m*\u001b[0m\u001b[0;36m10\u001b[0m\u001b[0;34m)\u001b[0m\u001b[0;34m\u001b[0m\u001b[0;34m\u001b[0m\u001b[0m\n\u001b[1;32m      4\u001b[0m \u001b[0;34m\u001b[0m\u001b[0m\n\u001b[0;32m----> 5\u001b[0;31m \u001b[0mint\u001b[0m\u001b[0;34m(\u001b[0m\u001b[0mround\u001b[0m\u001b[0;34m(\u001b[0m\u001b[0mnorm\u001b[0m\u001b[0;34m)\u001b[0m\u001b[0;34m)\u001b[0m\u001b[0;34m\u001b[0m\u001b[0;34m\u001b[0m\u001b[0m\n\u001b[0m\u001b[1;32m      6\u001b[0m \u001b[0;34m\u001b[0m\u001b[0m\n",
      "\u001b[0;31mTypeError\u001b[0m: type list doesn't define __round__ method"
     ]
    }
   ],
   "source": [
    "norm = []\n",
    "for i in range(1,20):\n",
    "    norm.append((1/i)*10)\n",
    "    \n",
    "int(round(norm))\n",
    "    "
   ]
  },
  {
   "cell_type": "code",
   "execution_count": null,
   "metadata": {},
   "outputs": [],
   "source": []
  },
  {
   "cell_type": "code",
   "execution_count": null,
   "metadata": {},
   "outputs": [],
   "source": [
    "grouped = df.groupby(['Name']).count()\n",
    "#ls = list(grouped)\n",
    "#l\n",
    "a = df.loc[:,'A']\n",
    "a = a.str.replace(\"Evens\",\"1/1\")\n",
    "a = a.str.extract(r'(\\d+).(\\d+)(.?)')\n",
    "a\n",
    "a.iloc[:,0] = a.iloc[:,0].astype(int)\n",
    "a.iloc[:,1] = a.iloc[:,1].astype(int)\n",
    "b = (a.iloc[:,0]/a.iloc[:,1])+1\n",
    "#a.iloc[:,2]\n",
    "#b = pd.concat([b,a.iloc[:,2]],axis=1)\n",
    "#.iloc[:,1]=b.iloc[:,1].str.replace(r\"\\s\\w\\s\",\"F\")\n",
    "#b.iloc[:,1]=b.iloc[:,1].str.replace('',\"N\")\n",
    "b.iloc[:,1] = b.iloc[:,1].str.contains(r\"\\S\")\n",
    "\n",
    "\n",
    "\n"
   ]
  },
  {
   "cell_type": "code",
   "execution_count": null,
   "metadata": {},
   "outputs": [],
   "source": [
    "a = df.loc[:,'B']\n",
    "a\n",
    "c = a.str.extract(r\"(.+)\\s\\((\\w+)\\)\")\n",
    "c['fav']=c.iloc[:,1]\n",
    "c\n",
    "                  "
   ]
  },
  {
   "cell_type": "code",
   "execution_count": null,
   "metadata": {},
   "outputs": [],
   "source": [
    "a = df['C']\n",
    "c = a.str.extract(r\"(\\d+):(.+)\")\n",
    "c[0] = c[0].astype(float)\n",
    "c[1] = c[1].astype(float)\n",
    "df['C'] = (c[0]*60)+c[1]\n",
    "\n",
    "\n",
    "\n"
   ]
  },
  {
   "cell_type": "code",
   "execution_count": null,
   "metadata": {},
   "outputs": [],
   "source": [
    "def append_value(dict_obj, key, value):\n",
    "    # Check if key exist in dict or not\n",
    "    if key in dict_obj:\n",
    "        # Key exist in dict.\n",
    "        # Check if type of value of key is list or not\n",
    "        if not isinstance(dict_obj[key], list):\n",
    "            # If type is not list then make it list\n",
    "            dict_obj[key] = [dict_obj[key]]\n",
    "        # Append the value in list\n",
    "        dict_obj[key].append(value)\n",
    "    else:\n",
    "        # As key is not in dict,\n",
    "        # so, add key-value pair\n",
    "        dict_obj[key] = value\n",
    "\n",
    "dicG = df.groupby('Name')\n",
    "dic = dicG.groups\n",
    "dicG.get_group('a').loc[0,'UID'] = '3'\n",
    "df.loc[0,'UID'] = '3'\n",
    "df\n",
    "#sdic = dic[1:5]\n",
    "#type(dic.keys())\n",
    "#dic[a].append([29,29,29])\n",
    "#append_value(dic,'a',sorted(['29']*4))\n",
    "#dic\n"
   ]
  },
  {
   "cell_type": "code",
   "execution_count": null,
   "metadata": {},
   "outputs": [],
   "source": [
    "l = []\n",
    "a = ['1','2','3']\n",
    "b = [1,2,3]\n",
    "for i in range(len(a)):\n",
    "    lc = [a[i]]*b[i]\n",
    "    for j in lc:\n",
    "        l.append(j)\n",
    "l\n",
    "    \n",
    "\n"
   ]
  },
  {
   "cell_type": "code",
   "execution_count": null,
   "metadata": {},
   "outputs": [],
   "source": [
    "df.head"
   ]
  }
 ],
 "metadata": {
  "kernelspec": {
   "display_name": "Python 3",
   "language": "python",
   "name": "python3"
  },
  "language_info": {
   "codemirror_mode": {
    "name": "ipython",
    "version": 3
   },
   "file_extension": ".py",
   "mimetype": "text/x-python",
   "name": "python",
   "nbconvert_exporter": "python",
   "pygments_lexer": "ipython3",
   "version": "3.8.5"
  }
 },
 "nbformat": 4,
 "nbformat_minor": 4
}
